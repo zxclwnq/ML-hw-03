{
 "cells": [
  {
   "cell_type": "markdown",
   "metadata": {
    "id": "fCnh7txruDwL"
   },
   "source": [
    "# Поиск аномалий"
   ]
  },
  {
   "cell_type": "markdown",
   "metadata": {
    "id": "e6II8JMnuDwO"
   },
   "source": [
    "Методы обнаружения аномалий, как следует из названия, позволяют находить необычные объекты в выборке. Но что такое \"необычные\" и совпадает ли это определение у разных методов?"
   ]
  },
  {
   "cell_type": "markdown",
   "metadata": {
    "id": "TFjf40SeuDwO"
   },
   "source": [
    "Начнём с поиска аномалий в текстах: научимся отличать вопросы о программировании от текстов из 20newsgroups про религию."
   ]
  },
  {
   "cell_type": "markdown",
   "metadata": {
    "id": "YIwHXueZuDwO"
   },
   "source": [
    "Подготовьте данные: в обучающую выборку возьмите 20 тысяч текстов из датасета Stack Overflow, а тестовую выборку сформируйте из 10 тысяч текстов со Stack Overflow и 100 текстов из класса soc.religion.christian датасета 20newsgroups (очень пригодится функция `fetch_20newsgroups(categories=['soc.religion.christian'])`). Тексты про программирование будем считать обычными, а тексты про религию — аномальными."
   ]
  },
  {
   "cell_type": "code",
   "execution_count": 1,
   "metadata": {
    "id": "KJgW4zVZuDwP"
   },
   "outputs": [
    {
     "name": "stdout",
     "output_type": "stream",
     "text": [
      "Starting reading file\n",
      "Parsing file\n",
      "Complete\n",
      "  Id PostTypeId                                               Body\n",
      "0  4          1  <p>I'm new to C# and I want to use a track-bar...\n",
      "1  6          1  <p>I have an absolutely positioned <code>div</...\n",
      "2  7          2  <p>An explicit cast to double isn't necessary....\n",
      "3  8          1  <p>Are there any conversion tools for porting ...\n",
      "4  9          1  <p>Given a <code>DateTime</code> representing ...\n"
     ]
    }
   ],
   "source": [
    "import xml.etree.ElementTree as ET\n",
    "import pandas as pd\n",
    "\n",
    "def read_stackoverflow_xml(file_path):\n",
    "    # Чтение и парсинг XML файла\n",
    "    print(\"Parsing file\")\n",
    "    tree = ET.parse(file_path)\n",
    "    root = tree.getroot()\n",
    "    print(\"Complete\")\n",
    "    posts = []\n",
    "    \n",
    "    # Проход по всем элементам row\n",
    "    for row in root.findall('row')[:3:\n",
    "        post_id = row.get('Id')\n",
    "        post_type_id = row.get('PostTypeId')  # Тип поста: 1 - вопрос, 2 - ответ\n",
    "        body = row.get('Body')\n",
    "        if body:\n",
    "            posts.append({'Id': post_id, 'PostTypeId': post_type_id, 'Body': body})\n",
    "    \n",
    "    # Конвертация в pandas DataFrame для удобной работы\n",
    "    posts_df = pd.DataFrame(posts)\n",
    "    return posts_df\n",
    "\n",
    "# Чтение постов из XML файла\n",
    "print(\"Starting reading file\")\n",
    "\n",
    "xml_file_path = 'posts.xml'  # путь к XML \n",
    "posts_df = read_stackoverflow_xml(xml_file_path)\n",
    "\n",
    "# Выведем первые несколько строк\n",
    "print(posts_df.head())\n",
    "\n",
    "questions_df = posts_df[posts_df['PostTypeId'] == '1']\n"
   ]
  },
  {
   "cell_type": "code",
   "execution_count": 6,
   "metadata": {},
   "outputs": [
    {
     "name": "stdout",
     "output_type": "stream",
     "text": [
      "0        <p>I'm new to C# and I want to use a track-bar...\n",
      "1        <p>I have an absolutely positioned <code>div</...\n",
      "2        <p>An explicit cast to double isn't necessary....\n",
      "3        <p>Are there any conversion tools for porting ...\n",
      "4        <p>Given a <code>DateTime</code> representing ...\n",
      "                               ...                        \n",
      "29995    <p>But it's FUN! I mean it's more interesting ...\n",
      "29996    <p>It depends on the number of images you are ...\n",
      "29997    <p>I'm trying to find a simple way to change t...\n",
      "29998    <p><strong><em><a href=\"http://dotnetnuke.mont...\n",
      "29999    <p><a href=\"http://en.wikipedia.org/wiki/Casca...\n",
      "Name: Body, Length: 30000, dtype: object\n"
     ]
    }
   ],
   "source": [
    "print(posts_df[\"Body\"])"
   ]
  },
  {
   "cell_type": "code",
   "execution_count": 9,
   "metadata": {},
   "outputs": [
    {
     "name": "stdout",
     "output_type": "stream",
     "text": [
      "Train-Test StackOverflow\n",
      "Religion Texts\n",
      "Labels\n",
      "Test\n",
      "Shuffle\n"
     ]
    }
   ],
   "source": [
    "from sklearn.datasets import fetch_20newsgroups\n",
    "from sklearn.model_selection import train_test_split\n",
    "import pandas as pd\n",
    "import random\n",
    "\n",
    "# Выбираем 20 тысяч текстов для обучающей выборки\n",
    "print(\"Train-Test StackOverflow\")\n",
    "train_df, test_df = train_test_split(posts_df[\"Body\"], train_size=20000, random_state=42)\n",
    "\n",
    "print(\"Religion Texts\")\n",
    "# Загружаем данные из 20newsgroups (категория: soc.religion.christian)\n",
    "religion_texts = fetch_20newsgroups(categories=['soc.religion.christian'], remove=('headers', 'footers', 'quotes'))\n",
    "religion_df = pd.DataFrame({'text': religion_texts.data, 'label': 1})  # label=1 для аномальных текстов\n",
    "\n",
    "print(\"Labels\")\n",
    "# Метки для обычных текстов (label=0)\n",
    "test_df['label'] = 0  # label=0 для обычных текстов\n",
    "\n",
    "print(\"Test\")\n",
    "# Объединяем тексты Stack Overflow и религиозные тексты в тестовую выборку\n",
    "test_df = pd.concat([test_df, religion_df.sample(100, random_state=42)], ignore_index=True)\n",
    "\n",
    "print(\"Shuffle\")\n",
    "# Перемешиваем тестовую выборку для случайного распределения аномалий\n",
    "test_df = test_df.sample(frac=1, random_state=42).reset_index(drop=True)"
   ]
  },
  {
   "cell_type": "code",
   "execution_count": 10,
   "metadata": {},
   "outputs": [
    {
     "name": "stdout",
     "output_type": "stream",
     "text": [
      "                                                  text  label\n",
      "0    I wrote in response to dlecoint@garnet.acns.fs...      1\n",
      "1    A \"new Christian\" wrote that he was new to the...      1\n",
      "2    : > \\t   I'm a commited Christian that is batt...      1\n",
      "3    My brother has been alienated from my parents ...      1\n",
      "4       > [A very nice article on the DSS, which I ...      1\n",
      "..                                                 ...    ...\n",
      "594  Despite my trendy, liberal, feminist tendencie...      1\n",
      "595  Where in the Bible is there *any* teaching abo...      1\n",
      "596  \\nI've sent the article.  In terms of the grou...      1\n",
      "597  \\n\\tHmm...makes you wonder whether prayer \"in ...      1\n",
      "598  \\n[deletia- and so on]\\n\\nI seem to have been ...      1\n",
      "\n",
      "[599 rows x 2 columns]\n"
     ]
    }
   ],
   "source": [
    "print(religion_df)"
   ]
  },
  {
   "cell_type": "code",
   "execution_count": 11,
   "metadata": {},
   "outputs": [],
   "source": [
    "posts_df[\"Body\"].to_csv('StackOverflow_posts.csv', index=False)"
   ]
  },
  {
   "cell_type": "markdown",
   "metadata": {
    "id": "R0cVmrBDuDwP"
   },
   "source": [
    "**(1 балл)**\n",
    "\n",
    "Проверьте качество выделения аномалий (precision и recall на тестовой выборке, если считать аномалии положительным классов, а обычные тексты — отрицательным) для IsolationForest. В качестве признаков используйте TF-IDF, где словарь и IDF строятся по обучающей выборке. Не забудьте подобрать гиперпараметры."
   ]
  },
  {
   "cell_type": "code",
   "execution_count": null,
   "metadata": {
    "id": "9C0ZzIGFuDwQ"
   },
   "outputs": [],
   "source": [
    "#code here"
   ]
  },
  {
   "cell_type": "markdown",
   "metadata": {
    "id": "2EEXad6euDwQ"
   },
   "source": [
    "**(5 баллов)**\n",
    "\n",
    "Скорее всего, качество оказалось не на высоте. Разберитесь, в чём дело:\n",
    "* посмотрите на тексты, которые выделяются как аномальные, а также на слова, соответствующие их ненулевым признакам\n",
    "* изучите признаки аномальных текстов\n",
    "* посмотрите на тексты из обучающей выборки, ближайшие к аномальным; действительно ли они похожи по признакам?\n",
    "\n",
    "Сделайте выводы и придумайте, как избавиться от этих проблем. Предложите варианты двух типов: (1) в рамках этих же признаков (но которые, возможно, будут считаться по другим наборам данных) и методов и (2) без ограничений на изменения. Реализуйте эти варианты и проверьте их качество."
   ]
  },
  {
   "cell_type": "code",
   "execution_count": null,
   "metadata": {
    "id": "xYvrEzFGuDwR"
   },
   "outputs": [],
   "source": [
    "#code here"
   ]
  },
  {
   "cell_type": "markdown",
   "metadata": {
    "id": "AHk8G7mLuDwR"
   },
   "source": [
    "### Эксперимент только с изменением датасета"
   ]
  },
  {
   "cell_type": "code",
   "execution_count": null,
   "metadata": {
    "id": "bj0a2TOCuDwR"
   },
   "outputs": [],
   "source": [
    "#code here"
   ]
  },
  {
   "cell_type": "markdown",
   "metadata": {
    "id": "L_53_1ftuDwR"
   },
   "source": [
    "### Эксперимент с любыми изменениями"
   ]
  },
  {
   "cell_type": "code",
   "execution_count": null,
   "metadata": {
    "id": "u515SJs2uDwS"
   },
   "outputs": [],
   "source": [
    "#code here"
   ]
  },
  {
   "cell_type": "markdown",
   "metadata": {
    "id": "ukGE7udQuDwS"
   },
   "source": [
    "Подготовьте выборку: удалите столбцы `['id', 'date', 'price', 'zipcode']`, сформируйте обучающую и тестовую выборки по 10 тысяч домов.\n",
    "\n",
    "Добавьте в тестовую выборку 10 новых объектов, в каждом из которых испорчен ровно один признак — например, это может быть дом из другого полушария, из далёкого прошлого или будущего, с площадью в целый штат или с таким числом этажей, что самолётам неплохо бы его облетать стороной."
   ]
  },
  {
   "cell_type": "markdown",
   "metadata": {
    "id": "i-0yaOlyuDwS"
   },
   "source": [
    "Посмотрим на методы обнаружения аномалий на более простых данных — уж на табличном датасете с 19 признаками всё должно работать как надо!\n",
    "\n",
    "Скачайте данные о стоимости домов: https://www.kaggle.com/harlfoxem/housesalesprediction/data"
   ]
  },
  {
   "cell_type": "code",
   "execution_count": null,
   "metadata": {
    "id": "lg-T_gYEuDwS"
   },
   "outputs": [],
   "source": [
    "#code here"
   ]
  },
  {
   "cell_type": "markdown",
   "metadata": {
    "id": "IkkxswUOuDwS"
   },
   "source": [
    "**Задание 9. (2 балла)**\n",
    "\n",
    "Примените IsolationForest для поиска аномалий в этих данных, запишите их качество (как и раньше, это precision и recall). Проведите исследование:\n",
    "\n",
    "Нарисуйте распределения всех признаков и обозначьте на этих распределениях объекты, которые признаны аномальными."
   ]
  },
  {
   "cell_type": "code",
   "execution_count": null,
   "metadata": {
    "id": "-q8DQDG7uDwS"
   },
   "outputs": [],
   "source": [
    "#code here"
   ]
  }
 ],
 "metadata": {
  "colab": {
   "provenance": []
  },
  "kernelspec": {
   "display_name": "Python 3 (ipykernel)",
   "language": "python",
   "name": "python3"
  },
  "language_info": {
   "codemirror_mode": {
    "name": "ipython",
    "version": 3
   },
   "file_extension": ".py",
   "mimetype": "text/x-python",
   "name": "python",
   "nbconvert_exporter": "python",
   "pygments_lexer": "ipython3",
   "version": "3.12.4"
  }
 },
 "nbformat": 4,
 "nbformat_minor": 4
}
